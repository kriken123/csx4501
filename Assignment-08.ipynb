{
 "cells": [
  {
   "cell_type": "markdown",
   "id": "31a21b2f-ffcc-498b-8e10-71b6ed8f2ad1",
   "metadata": {},
   "source": [
    "# NLP Visualizations of Macbeth and Romeo and Juliet"
   ]
  },
  {
   "cell_type": "markdown",
   "id": "193b2a89-3209-4577-841a-fefc38646b6f",
   "metadata": {},
   "source": [
    "Execute the following cell for important imports."
   ]
  },
  {
   "cell_type": "code",
   "execution_count": 1,
   "id": "3865fca7-0ae1-4bae-a6b8-64fdb69ded40",
   "metadata": {},
   "outputs": [],
   "source": [
    "import requests\n",
    "import matplotlib.pyplot as plt\n",
    "import nltk\n",
    "from nltk.tokenize import word_tokenize\n",
    "from nltk.sentiment import vader\n",
    "from nltk.corpus import stopwords\n",
    "from string import punctuation\n",
    "from nltk.corpus import opinion_lexicon\n",
    "from nltk.stem.porter import PorterStemmer"
   ]
  },
  {
   "cell_type": "markdown",
   "id": "c32a0d8c-d509-4a95-9a3c-2268d4d2ea54",
   "metadata": {},
   "source": [
    "Execute the following cell to get the text of \"Macbeth\" and \"Romeo and Juliet\" from [Project Gutenberg](https://www.gutenberg.org/) "
   ]
  },
  {
   "cell_type": "code",
   "execution_count": 2,
   "id": "e5c47602-5ea0-4d58-95f8-964c4de51786",
   "metadata": {},
   "outputs": [],
   "source": [
    "target_url = \"https://www.gutenberg.org/files/1533/1533-0.txt\"\n",
    "response = requests.get(target_url)\n",
    "macbeth_string = response.text\n",
    "macbeth_string = macbeth_string.split('*** START OF THE PROJECT GUTENBERG EBOOK MACBETH ***')[1]\n",
    "macbeth_string = macbeth_string.split('*** END OF THE PROJECT GUTENBERG EBOOK MACBETH ***')[0]\n",
    "macbeth_string = macbeth_string.lower()\n",
    "\n",
    "target_url = \"https://www.gutenberg.org/files/1513/1513-0.txt\"\n",
    "response = requests.get(target_url)\n",
    "r_j_string = response.text\n",
    "r_j_string = r_j_string.split('*** START OF THE PROJECT GUTENBERG EBOOK ROMEO AND JULIET ***')[1]\n",
    "r_j_string = r_j_string.split('*** END OF THE PROJECT GUTENBERG EBOOK ROMEO AND JULIET ***')[0]\n",
    "r_j_scenes = [i.lower() for i in r_j_string.split('SCENE')[1:]]"
   ]
  },
  {
   "cell_type": "markdown",
   "id": "f7f8e864-da7b-415e-b9e9-52488fe06037",
   "metadata": {},
   "source": [
    "You now have the following variables:\n",
    "* `macbeth_string`: this string contains the full text of \"Macbeth\"\n",
    "* `r_j_string`: this string contains the full text of \"Romeo and Juliet\"\n",
    "* `r_j_scenes`: the text from each scene of \"Romeo and Juliet\" is included in this Python list, with one scene per list item"
   ]
  },
  {
   "cell_type": "markdown",
   "id": "22a2f090-2ea3-4161-8989-59fcba76f10c",
   "metadata": {},
   "source": [
    "Make two new variables:\n",
    "* a Python list of stopwords\n",
    "* a variable for using VADER's SentimentIntensityAnalyzer"
   ]
  },
  {
   "cell_type": "code",
   "execution_count": 3,
   "id": "1cfc67ec-6f23-415c-9ffa-d84073534a09",
   "metadata": {},
   "outputs": [],
   "source": [
    "mystopwords = list(punctuation) + stopwords.words('english')\n",
    "sia = vader.SentimentIntensityAnalyzer()"
   ]
  },
  {
   "cell_type": "markdown",
   "id": "ab07823c-6968-447e-84fa-67859376b5cd",
   "metadata": {},
   "source": [
    "## Macbeth"
   ]
  },
  {
   "cell_type": "markdown",
   "id": "df298e1f-69af-4496-aaa2-7cbc9a42f31c",
   "metadata": {},
   "source": [
    "Make a list of the words in Macbeth by tokenizing the macbeth_string:"
   ]
  },
  {
   "cell_type": "code",
   "execution_count": 4,
   "id": "dd29e2bb-8981-478c-8d59-389f8223f4f8",
   "metadata": {},
   "outputs": [],
   "source": [
    "macbethwords = word_tokenize(macbeth_string)"
   ]
  },
  {
   "cell_type": "markdown",
   "id": "904a4113-dd27-436f-bfa9-6595bad1f594",
   "metadata": {},
   "source": [
    "Next, make a list of positive words and a list of negative words using the `polarity_scores` method of VADER's SentimentIntensityAnalyzer.\n",
    "\n",
    "Write a for loop that iterates over your Macbeth word list, and:\n",
    "* if the compound score of a word is positive, add the word to the positive-word list\n",
    "* if the compound score of a word is negative, add the word to the negative-word list"
   ]
  },
  {
   "cell_type": "code",
   "execution_count": 5,
   "id": "b9b9637d-10a2-40f4-a358-cfbfa6202dd0",
   "metadata": {},
   "outputs": [],
   "source": [
    "posWords= []\n",
    "negWords= []\n",
    "\n",
    "def getSentiment(i):\n",
    "    return sia.polarity_scores(i)['compound']\n",
    "\n",
    "for i in macbethwords:\n",
    "    compound_score = getSentiment(i)\n",
    "    if compound_score > 0:\n",
    "        posWords.append(i)\n",
    "    if compound_score < 0:\n",
    "        negWords.append(i)   "
   ]
  },
  {
   "cell_type": "markdown",
   "id": "d0d06112-820c-4960-99de-d1123e47d021",
   "metadata": {},
   "source": [
    "For any list `mylist`, you can get the word frequencies of words in `mylist` using `nltk.FreqDist(mylist)`, and you can get the `n` most common words with `nltk.FreqDist(mylist).most_common(n)`.\n",
    "\n",
    "Use these commands to:\n",
    "1. find the 15 most common negative words in Macbeth and the 15 most common positive words\n",
    "2. make a horizontal bar plot similar to the plots in the following\n",
    "3. comment on similarities and differences to the Macbeth plot below\n",
    "\n",
    "(Plot taken from https://peerchristensen.netlify.app/post/fair-is-foul-and-foul-is-fair-a-tidytext-entiment-analysis-of-shakespeare-s-tragedies/)\n",
    "\n",
    "![Pos-Neg-Words in Shakespeare](https://peerchristensen.netlify.com/post/2018-06-07-fair-is-foul-and-foul-is-fair-a-tidytext-entiment-analysis-of-shakespeare-s-tragedies_files/figure-html/unnamed-chunk-19-1.png)"
   ]
  },
  {
   "cell_type": "code",
   "execution_count": 6,
   "id": "90e13d2a-fe2b-43c1-8a38-252a2e283b7f",
   "metadata": {},
   "outputs": [
    {
     "data": {
      "image/png": "[encoded data removed]",
      "text/plain": [
       "<Figure size 432x288 with 2 Axes>"
      ]
     },
     "metadata": {
      "needs_background": "light"
     },
     "output_type": "display_data"
    }
   ],
   "source": [
    "#Use these commands to:\n",
    "#1. find the 15 most common negative words in Macbeth and the 15 most common positive words\n",
    "#2. make a horizontal bar plot similar to the plots in the following\n",
    "#3. comment on similarities and differences to the Macbeth plot below\n",
    "\n",
    "# Code:\n",
    "neg15words =nltk.FreqDist(negWords).most_common(15)\n",
    "pos15words =nltk.FreqDist(posWords).most_common(15)\n",
    "\n",
    "y_nwords = []\n",
    "x_nfreq = []\n",
    "y_pwords = []\n",
    "x_pfreq = []\n",
    "\n",
    "for i in neg15words:\n",
    "    y_nwords.append(i[0])\n",
    "    x_nfreq.append(i[1])\n",
    "\n",
    "for i in pos15words:\n",
    "    y_pwords.append(i[0])\n",
    "    x_pfreq.append(i[1])\n",
    "    \n",
    "\n",
    "fig, (ax1, ax2) = plt.subplots(1, 2)\n",
    "fig.suptitle('Macbeth')\n",
    "ax1.barh(y_nwords[::-1],x_nfreq[::-1], color='purple')\n",
    "ax2.barh(y_pwords[::-1],x_pfreq[::-1], color='orange')\n",
    "ax1.set_title(\"negative\")\n",
    "ax2.set_title(\"positive\")\n",
    "\n",
    "\n",
    "plt.show()"
   ]
  },
  {
   "cell_type": "markdown",
   "id": "2cd8cc64",
   "metadata": {},
   "source": [
    "# Make this a markdown cell for your comments:\n",
    "Negative words are similar except for the first two common negative words of 'no' and 'witch'\n",
    "Positive words were very similar as well except for the word 'hand' and other more neutral words. \n"
   ]
  },
  {
   "cell_type": "markdown",
   "id": "0a595931-82f3-4812-a6e8-498a9a4b9e00",
   "metadata": {},
   "source": [
    "The word list we created from Macbeth did not have the stopwords removed.\n",
    "* Repeat the above analysis, but do so for a list of Macbeth words in which the stopwords have been removed.\n",
    "* What changes?"
   ]
  },
  {
   "cell_type": "code",
   "execution_count": 7,
   "id": "a1ddbb75-9bba-4d60-a00e-44c9d4010a8c",
   "metadata": {},
   "outputs": [
    {
     "name": "stderr",
     "output_type": "stream",
     "text": [
      "[nltk_data] Downloading package stopwords to\n",
      "[nltk_data]     C:\\Users\\krike\\AppData\\Roaming\\nltk_data...\n",
      "[nltk_data]   Package stopwords is already up-to-date!\n"
     ]
    },
    {
     "data": {
      "image/png": "[encoded data removed]",
      "text/plain": [
       "<Figure size 432x288 with 2 Axes>"
      ]
     },
     "metadata": {
      "needs_background": "light"
     },
     "output_type": "display_data"
    }
   ],
   "source": [
    "# Code:\n",
    "from nltk.corpus import stopwords\n",
    "from string import punctuation\n",
    "nltk.download('stopwords')\n",
    "\n",
    "myStopWords = list(punctuation) + stopwords.words('english')\n",
    "\n",
    "macNoStop= []\n",
    "for i in macbethwords:\n",
    "    if i not in myStopWords:\n",
    "        macNoStop.append(i)\n",
    "#print(macNoStop)\n",
    "\n",
    "posWordsX= []\n",
    "negWordsX= []\n",
    "\n",
    "def getSentiment(i):\n",
    "    return sia.polarity_scores(i)['compound']\n",
    "\n",
    "for i in macNoStop:\n",
    "    compound_score = getSentiment(i)\n",
    "    if compound_score > 0:\n",
    "        posWordsX.append(i)\n",
    "    if compound_score < 0:\n",
    "        negWordsX.append(i)   \n",
    "        \n",
    "neg15wordsX =nltk.FreqDist(negWordsX).most_common(15)\n",
    "pos15wordsX =nltk.FreqDist(posWordsX).most_common(15)\n",
    "\n",
    "y_nwordsX = []\n",
    "x_nfreqX = []\n",
    "y_pwordsX = []\n",
    "x_pfreqX = []\n",
    "\n",
    "for i in neg15wordsX:\n",
    "    y_nwordsX.append(i[0])\n",
    "    x_nfreqX.append(i[1])\n",
    "\n",
    "for i in pos15wordsX:\n",
    "    y_pwordsX.append(i[0])\n",
    "    x_pfreqX.append(i[1])\n",
    "    \n",
    "\n",
    "fig, (ax1, ax2) = plt.subplots(1, 2)\n",
    "fig.suptitle('Macbeth')\n",
    "ax1.barh(y_nwordsX[::-1],x_nfreqX[::-1], color='purple')\n",
    "ax2.barh(y_pwordsX[::-1],x_pfreqX[::-1], color='orange')\n",
    "ax1.set_title(\"negative\")\n",
    "ax2.set_title(\"positive\")\n",
    "\n",
    "\n",
    "plt.show()\n"
   ]
  },
  {
   "cell_type": "markdown",
   "id": "a2db99f3",
   "metadata": {},
   "source": [
    "# Make this a markdown cell for your comments:\n",
    "The difference was in negative words --'no' was removed\n"
   ]
  },
  {
   "cell_type": "markdown",
   "id": "463cac33-ddc0-4cb8-af99-cbf975511f53",
   "metadata": {},
   "source": [
    "* Repeat the above analysis one more time -> in addition to removing the stopwords, use the Porter stemmer to get a list of stemmed words before you calculate the word frequencies.\n",
    "* What words in your plot have now been counted together?"
   ]
  },
  {
   "cell_type": "code",
   "execution_count": 8,
   "id": "927d30bd-1cce-4791-9f1a-f77f5d6247e9",
   "metadata": {},
   "outputs": [
    {
     "data": {
      "image/png": "[encoded data removed]",
      "text/plain": [
       "<Figure size 432x288 with 2 Axes>"
      ]
     },
     "metadata": {
      "needs_background": "light"
     },
     "output_type": "display_data"
    }
   ],
   "source": [
    "# Code:\n",
    "from nltk.stem.porter import PorterStemmer\n",
    "\n",
    "wordPorterStems = [PorterStemmer().stem(w) for w in macNoStop]\n",
    "posWordsW= []\n",
    "negWordsW= []\n",
    "\n",
    "def getSentiment(i):\n",
    "    return sia.polarity_scores(i)['compound']\n",
    "\n",
    "for i in wordPorterStems:\n",
    "    compound_score = getSentiment(i)\n",
    "    if compound_score > 0:\n",
    "        posWordsW.append(i)\n",
    "    if compound_score < 0:\n",
    "        negWordsW.append(i)   \n",
    "        \n",
    "neg15wordsW =nltk.FreqDist(negWordsW).most_common(15)\n",
    "pos15wordsW =nltk.FreqDist(posWordsW).most_common(15)\n",
    "\n",
    "y_nwordsW = []\n",
    "x_nfreqW = []\n",
    "y_pwordsW = []\n",
    "x_pfreqW = []\n",
    "\n",
    "for i in neg15wordsW:\n",
    "    y_nwordsW.append(i[0])\n",
    "    x_nfreqW.append(i[1])\n",
    "\n",
    "for i in pos15wordsW:\n",
    "    y_pwordsW.append(i[0])\n",
    "    x_pfreqW.append(i[1])\n",
    "    \n",
    "\n",
    "fig, (ax1, ax2) = plt.subplots(1, 2)\n",
    "fig.suptitle('Macbeth')\n",
    "ax1.barh(y_nwordsW[::-1],x_nfreqW[::-1], color='purple')\n",
    "ax2.barh(y_pwordsW[::-1],x_pfreqW[::-1], color='orange')\n",
    "ax1.set_title(\"negative\")\n",
    "ax2.set_title(\"positive\")\n",
    "\n",
    "\n",
    "plt.show()\n"
   ]
  },
  {
   "cell_type": "markdown",
   "id": "e23efb6d",
   "metadata": {},
   "source": [
    "# Make this a markdown cell for your comments:\n",
    "For the negative words the word 'murderer' jumped to the #2 spot since it combined murderer and murderers and fear and fears was also combined\n"
   ]
  },
  {
   "cell_type": "markdown",
   "id": "75f33369-518b-48dd-9280-24245212e78c",
   "metadata": {},
   "source": [
    "## Romeo and Juliet"
   ]
  },
  {
   "cell_type": "markdown",
   "id": "2727f7e2-d000-4256-b766-59bd98dcb550",
   "metadata": {},
   "source": [
    "We are now going to plot the evolution of sentiment in Romeo and Juliet.\n",
    "\n",
    "This is motivated by the following plot (also from the afore-mentioned link):\n",
    "![Sentiment Evolution in Shakespeare](https://peerchristensen.netlify.com/post/2018-06-07-fair-is-foul-and-foul-is-fair-a-tidytext-entiment-analysis-of-shakespeare-s-tragedies_files/figure-html/unnamed-chunk-11-1.png)"
   ]
  },
  {
   "cell_type": "markdown",
   "id": "1b53dedb-e8f6-4084-82ae-6b5695e59fba",
   "metadata": {},
   "source": [
    "We are going to make a couple different plots."
   ]
  },
  {
   "cell_type": "markdown",
   "id": "1ff5a05a-43fe-4e9d-b039-1ff5b3f65b04",
   "metadata": {},
   "source": [
    "First:\n",
    "* Write a for loop that iterate over the scenes in Romeo and Juliet (`r_j_scenes`), and for each scene:\n",
    "  * Make a list of the scene's words by tokenizing the string\n",
    "  * Calculate the total scene sentiment score by summing the compound scores of all the words in that scene\n",
    "* Make a bar plot that has the scene number on the horizontal axis and the sentiment scores as the bar heights.\n",
    "* Comment on its resemblance to the Romeo and Juliet plot above."
   ]
  },
  {
   "cell_type": "code",
   "execution_count": 20,
   "id": "20f55faa-7483-42df-861b-096b242077f8",
   "metadata": {},
   "outputs": [
    {
     "data": {
      "image/png": "[encoded data removed]",
      "text/plain": [
       "<Figure size 432x288 with 1 Axes>"
      ]
     },
     "metadata": {
      "needs_background": "light"
     },
     "output_type": "display_data"
    }
   ],
   "source": [
    "# Code:\n",
    "scenescore=[]\n",
    "def getSentiment(j):\n",
    "    return sia.polarity_scores(j)['compound']\n",
    "\n",
    "for j in r_j_scenes:\n",
    "    scenetext = word_tokenize(j)\n",
    "    score = 0   \n",
    "    for k in scenetext:\n",
    "        compound = getSentiment(k) \n",
    "        score = compound + score \n",
    "    scenescore.append(score)\n",
    "  \n",
    "plt.bar(range(1,len(scenescore)+1),scenescore)\n",
    "plt.show()\n",
    "    \n"
   ]
  },
  {
   "cell_type": "markdown",
   "id": "b75f8b8e",
   "metadata": {},
   "source": [
    "# Make this a markdown cell for your comments:\n",
    "This is somewhat similar in shape with the plot above but has less # of bars. And the plot above has a lot more negative scores.\n"
   ]
  },
  {
   "cell_type": "markdown",
   "id": "c9bccdd8-4fe2-4ae1-92bb-267d5e347271",
   "metadata": {},
   "source": [
    "Second:\n",
    "* Write a for loop that iterate over the scenes in Romeo and Juliet (`r_j_scenes`), and for each scene:\n",
    "  * Make a list of the scene's words by tokenizing the string\n",
    "  * Calculate the total scene sentiment score by **adding 1 to the score for each positive word (compound_score > 0) and substracting 1 from the score for each negative word (compound_score < 0)**\n",
    "    * This total is the difference between the positive and negative word counts\n",
    "* Make a bar plot that has the scene number on the horizontal axis and the sentiment scores as the bar heights.\n",
    "* Does this change the plot relative to the previous method of calculating the total scene sentiment score?"
   ]
  },
  {
   "cell_type": "code",
   "execution_count": 22,
   "id": "37329a87-0cb5-4398-a05c-5c183dfbd7ef",
   "metadata": {},
   "outputs": [
    {
     "name": "stdout",
     "output_type": "stream",
     "text": [
      "[-1, -18, 31, 28, 10, 40, 9, 55, 38, 41, 30, 17, 1, -26, -4, 11, 27, 2, 13, -14, 2, -23, -14, -6, -74]\n"
     ]
    },
    {
     "data": {
      "image/png": "[encoded data removed]",
      "text/plain": [
       "<Figure size 432x288 with 1 Axes>"
      ]
     },
     "metadata": {
      "needs_background": "light"
     },
     "output_type": "display_data"
    }
   ],
   "source": [
    "# Code:\n",
    "\n",
    "scenescore=[]\n",
    "def getSentiment(j):\n",
    "    return sia.polarity_scores(j)['compound']\n",
    "\n",
    "for j in r_j_scenes:\n",
    "    scenetext = word_tokenize(j)\n",
    "    score = 0   \n",
    "    for k in scenetext:\n",
    "        compound = getSentiment(k) \n",
    "        if compound > 0:\n",
    "            score = 1 + score \n",
    "        if compound < 0:\n",
    "            score = -1 + score\n",
    "    scenescore.append(score)\n",
    "\n",
    "plt.bar(range(1,len(scenescore)+1),scenescore)\n",
    "plt.show()\n"
   ]
  },
  {
   "cell_type": "markdown",
   "id": "efb27f6b",
   "metadata": {},
   "source": [
    "# Make this a markdown cell for your comments:\n",
    "This plot is slightly looking more like the comparison plot, but again does not have as many bars\n"
   ]
  },
  {
   "cell_type": "markdown",
   "id": "8eac64f2-a6e1-4e57-96cf-f0102fe86d69",
   "metadata": {},
   "source": [
    "Next, we are going to use a new lexicon to assess positive and negative word sentiment, the opinion_lexicon (https://www.nltk.org/api/nltk.corpus.reader.opinion_lexicon.html)\n",
    "\n",
    "Execute the following cell to make a set of positive words and a set of negative words."
   ]
  },
  {
   "cell_type": "code",
   "execution_count": 24,
   "id": "36e82e1f-82a8-4ef5-893b-280c6216539a",
   "metadata": {},
   "outputs": [
    {
     "name": "stderr",
     "output_type": "stream",
     "text": [
      "[nltk_data] Downloading package opinion_lexicon to\n",
      "[nltk_data]     C:\\Users\\krike\\AppData\\Roaming\\nltk_data...\n",
      "[nltk_data]   Unzipping corpora\\opinion_lexicon.zip.\n"
     ]
    }
   ],
   "source": [
    "import nltk\n",
    "nltk.download('opinion_lexicon')\n",
    "\n",
    "positive_words = set(opinion_lexicon.positive())\n",
    "negative_words = set(opinion_lexicon.negative())"
   ]
  },
  {
   "cell_type": "markdown",
   "id": "2c790e85-47ff-4dc9-bb73-bb3e6ee71ba5",
   "metadata": {},
   "source": [
    "The following cell is an example of checking whether a word is positive or negative according to this opinion lexicon.  Try it out with a couple words."
   ]
  },
  {
   "cell_type": "code",
   "execution_count": 25,
   "id": "3576c265-3caa-4f1c-8877-be531dbb5af0",
   "metadata": {},
   "outputs": [
    {
     "name": "stdout",
     "output_type": "stream",
     "text": [
      "love is positive\n"
     ]
    }
   ],
   "source": [
    "testword = 'love'\n",
    "if testword in positive_words:\n",
    "    print(testword + ' is positive')\n",
    "elif testword in negative_words:\n",
    "    print(testword + ' is negative')\n",
    "else:\n",
    "    print(testword + ' is neither positive nor negative')"
   ]
  },
  {
   "cell_type": "markdown",
   "id": "0c91a97d-32b6-4094-b6bc-0912adab3241",
   "metadata": {},
   "source": [
    "Third plot:\n",
    "\n",
    "* Write a for loop that iterate over the scenes in Romeo and Juliet (`r_j_scenes`), and for each scene:\n",
    "  * Make a list of the scene's words by tokenizing the string\n",
    "  * Calculate the total scene sentiment score by **adding 1 for each positive word and substracting 1 for each negative word, where the positive/negative word is assessed by its presence in the positive_words and negative_words sets.**\n",
    "    * This total is the difference between the positive and negative word counts\n",
    "* Make a bar plot that has the scene number on the horizontal axis and the sentiment scores as the bar heights.\n",
    "* Does this change the plot relative to the previous plots?"
   ]
  },
  {
   "cell_type": "code",
   "execution_count": 26,
   "id": "0f7b0abf-ca08-423d-b553-cef828ad5976",
   "metadata": {},
   "outputs": [
    {
     "data": {
      "image/png": "[encoded data removed]",
      "text/plain": [
       "<Figure size 432x288 with 1 Axes>"
      ]
     },
     "metadata": {
      "needs_background": "light"
     },
     "output_type": "display_data"
    }
   ],
   "source": [
    "# Code:\n",
    "\n",
    "scenescore=[]\n",
    "\n",
    "for j in r_j_scenes:\n",
    "    scenetext = word_tokenize(j)\n",
    "    score = 0   \n",
    "    for k in scenetext:\n",
    "        if k in positive_words:\n",
    "            score = 1 + score\n",
    "        elif k in negative_words:\n",
    "            score = -1 + score\n",
    "\n",
    "    scenescore.append(score)\n",
    "\n",
    "plt.bar(range(1,len(scenescore)+1),scenescore)\n",
    "plt.show()\n",
    "\n"
   ]
  },
  {
   "cell_type": "markdown",
   "id": "ba15f2f6",
   "metadata": {},
   "source": [
    "# Make this a markdown cell for your comments:\n",
    "Again the # of bars is less than the plot we're comparing too.  Although we're seeing more of a range of negative and positive scores still does not match. \n"
   ]
  },
  {
   "cell_type": "markdown",
   "id": "b068e0e3-ed19-464f-a6e8-4fa265b49bdb",
   "metadata": {},
   "source": [
    "Fourth plot:\n",
    "\n",
    "* Take the entire string of Romeo and Juliet (`r_j_string`) and tokenize it into words.\n",
    "* Calculate a total sentiment score for each consecutive group of 500 words.\n",
    "  * Do this as immediately above by adding 1 for each positive word and substracting 1 for each negative word, where the positive/negative word is assessed by its presence in the positive_words and negative_words sets.\n",
    "* Make a bar plot that has the group number (0,1,2,3,...) on the horizontal axis and the sentiment scores as the bar heights.\n",
    "* Does this change the plot relative to the previous plots?"
   ]
  },
  {
   "cell_type": "code",
   "execution_count": 31,
   "id": "a8470409",
   "metadata": {},
   "outputs": [
    {
     "name": "stdout",
     "output_type": "stream",
     "text": [
      "32438\n"
     ]
    }
   ],
   "source": [
    "rjwords = word_tokenize(r_j_string)\n",
    "c=0\n",
    "for i in rjwords:\n",
    "    c=c+1\n",
    "print(c)"
   ]
  },
  {
   "cell_type": "code",
   "execution_count": 37,
   "id": "fd640564-4aca-44db-8cfd-b6be049558ac",
   "metadata": {
    "scrolled": false
   },
   "outputs": [
    {
     "name": "stdout",
     "output_type": "stream",
     "text": [
      "[-4, -11, -11, -7, 9, 11, 12, -6, 1, -5, 19, -7, -16, 8, -3, 5, 2, 5, -4, 15, 4, 2, 6, 5, 9, 12, -4, 7, 8, 7, -2, 4, -14, -10, -9, -15, -15, -28, -8, -10, 11, 8, -7, -20, 9, 6, 3, -4, -14, -4, 9, -20, -3, -32, -1, 3, -9, -22, -12, -15, -4, -11, -20, -17]\n"
     ]
    },
    {
     "data": {
      "image/png": "[encoded data removed]",
      "text/plain": [
       "<Figure size 432x288 with 1 Axes>"
      ]
     },
     "metadata": {
      "needs_background": "light"
     },
     "output_type": "display_data"
    }
   ],
   "source": [
    "# Code:\n",
    "rjwords = word_tokenize(r_j_string)\n",
    "c=0\n",
    "scenescore = []\n",
    "score = 0\n",
    "for i in rjwords:\n",
    "    c=c+1\n",
    "    \n",
    "    if i in positive_words:\n",
    "        score = 1 + score\n",
    "    elif i in negative_words:\n",
    "        score = -1 + score\n",
    "    if c == 500:\n",
    "        scenescore.append(score)\n",
    "        score =0\n",
    "        c=0\n",
    "        \n",
    "print(scenescore)\n",
    "\n",
    "\n",
    "plt.bar(range(1,len(scenescore)+1),scenescore)\n",
    "plt.show()\n",
    " \n"
   ]
  },
  {
   "cell_type": "markdown",
   "id": "9948af8f",
   "metadata": {},
   "source": [
    "# Make this a markdown cell for your comments:\n",
    "This plot looks most like the one in the comparison. \n"
   ]
  },
  {
   "cell_type": "markdown",
   "id": "cb1d548c-f4c1-41dd-9264-49b397ec2261",
   "metadata": {},
   "source": [
    "What method would you use if you had to report on the evolution of sentiment in Romeo and Juliet to an audience of Shakespearian academics?"
   ]
  },
  {
   "cell_type": "markdown",
   "id": "747b1430-d408-4fd5-960b-c1540709ecad",
   "metadata": {},
   "source": []
  }
 ],
 "metadata": {
  "kernelspec": {
   "display_name": "Python 3 (ipykernel)",
   "language": "python",
   "name": "python3"
  },
  "language_info": {
   "codemirror_mode": {
    "name": "ipython",
    "version": 3
   },
   "file_extension": ".py",
   "mimetype": "text/x-python",
   "name": "python",
   "nbconvert_exporter": "python",
   "pygments_lexer": "ipython3",
   "version": "3.9.12"
  }
 },
 "nbformat": 4,
 "nbformat_minor": 5
}
