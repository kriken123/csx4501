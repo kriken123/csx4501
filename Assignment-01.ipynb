{
 "cells": [
  {
   "cell_type": "markdown",
   "id": "53a75286-8e9a-4574-a9cd-deadf632e1d1",
   "metadata": {},
   "source": [
    "# Instructions"
   ]
  },
  {
   "cell_type": "markdown",
   "id": "64e3cf6e-cf51-4531-baa3-c576b50d555b",
   "metadata": {},
   "source": [
    "The following assignment is intended to help you gain familiarity with the some software infrastructure and to help you practice (potentially completely new) Python skills.\n",
    "\n",
    "It's not intended to make you tear your hair out in consternation!  If you want hints or guidance on the basics, please post in Slack\n",
    "\n",
    "1. Join our Slack channel\n",
    "    * [click here if you need the link to join](https://join.slack.com/t/slack-rwi6743/shared_invite/zt-1batoi4rr-fTrKMVOAWFYqTOYm8bOkEQ)\n",
    "1. Make a new repository on GitHub to store assignments from this class.\n",
    "    * Go to GitHub (https://github.com) and log in. \n",
    "        * Create a GitHub account if you need one \n",
    "    * Click on \"Repositories\" and \"New\" \n",
    "    * Name your repo \"csx4501\", make it public, and select the \"Add a README file\" option\n",
    "    * Clone the new repo to your computer\n",
    "        * e.g. by using the GitHub Desktop application (https://desktop.github.com/)\n",
    "1. Copy this assignment file into the folder you just cloned.\n",
    "1. Carry out the subsequent exercises (below) in that file and save it.\n",
    "    * You will need to have Python and Jupyter installed on your computer.\n",
    "    * Contact me if you're having difficulties.\n",
    "1. Customize your repo's README file\n",
    "    * Go to the folder on your computer with the cloned files\n",
    "    * Open the README in a text editor\n",
    "    * Add a profile of yourself, a description of the course, project ideas, and your objectives for the class.\n",
    "    * Style your text\n",
    "        * Here's one [markdown guide](https://guides.github.com/features/mastering-markdown) for guidance\n",
    "1. Push your completed assignment and README files to your GitHub repository\n",
    "    1. In GitHub Desktop app, make sure that the \"Current Repository\" shown at the top is your new csx4501 repository\n",
    "    1. The changed files should show up on the left.\n",
    "    1. Add a commit summary and description on the bottom-left, then click the blue Commit button.\n",
    "    1. In the main window, click the blue button \"Push origin\" to push your changed files to GitHub.\n",
    "    1. After you push successfully, verify that your files are in your GitHub repository by visiting the website for your repository\n",
    "1. Finish the assignment by submitting a link to your GitHub repository on the Canvas site"
   ]
  },
  {
   "cell_type": "markdown",
   "id": "49b9267a-d050-4671-a643-1103fd47c690",
   "metadata": {},
   "source": [
    "# Python exercises"
   ]
  },
  {
   "cell_type": "code",
   "execution_count": 3,
   "id": "31728919-ffb3-44c6-ba97-d00489c96274",
   "metadata": {},
   "outputs": [
    {
     "name": "stdout",
     "output_type": "stream",
     "text": [
      "4\n",
      "17.0\n",
      "3\n"
     ]
    }
   ],
   "source": [
    "# Do at least three mathematical calculations with `+`, `-`, `*`, `/`, and/or `%`.\n",
    "print(2+2)\n",
    "print(255/15)\n",
    "print(3%144)\n"
   ]
  },
  {
   "cell_type": "code",
   "execution_count": 7,
   "id": "8fe34a6d-a4f7-4111-a95a-257a7de52103",
   "metadata": {},
   "outputs": [
    {
     "name": "stdout",
     "output_type": "stream",
     "text": [
      "0\n",
      "a is even\n"
     ]
    }
   ],
   "source": [
    "# Assign a number to the variable `a`,\n",
    "# do a mathematical calculation to determine whether a is odd or even,\n",
    "# and print out either \"a is even\" or \"a is odd\" as appropriate.\n",
    "\n",
    "a= 30\n",
    "print(a%2)\n",
    "\n",
    "if (a%2)>0:\n",
    "    print('a is odd')\n",
    "    \n",
    "if (a%2)=0\n",
    "    print('a is even')"
   ]
  },
  {
   "cell_type": "code",
   "execution_count": 1,
   "id": "2a752c2c",
   "metadata": {},
   "outputs": [
    {
     "name": "stdout",
     "output_type": "stream",
     "text": [
      "[1, 1, 2, 3, 5, 8, 13, 21, 34, 55, 89]\n",
      "1\n",
      "5\n",
      "89\n",
      "11\n",
      "1\n",
      "1\n",
      "2\n",
      "3\n",
      "5\n",
      "8\n",
      "13\n",
      "21\n",
      "34\n",
      "55\n",
      "89\n",
      "1\n",
      "1\n",
      "2\n",
      "3\n",
      "5\n",
      "89\n",
      "55\n",
      "34\n",
      "21\n",
      "13\n",
      "8\n",
      "5\n",
      "3\n",
      "2\n",
      "1\n",
      "1\n",
      "[1, 1, 2, 3, 5, 8, 13, 21, 34, 55, 89, 144]\n"
     ]
    }
   ],
   "source": [
    "a = [1, 1, 2, 3, 5, 8, 13, 21, 34, 55, 89]\n",
    "# Using the given list,\n",
    "# 1. print the list\n",
    "print(a)\n",
    "# 2. print the 0th element \n",
    "print(a[0])\n",
    "# 3. print the 5th element \n",
    "print(a[4])\n",
    "# 4. print the last element \n",
    "print(a[10])\n",
    "# 5. print the length\n",
    "#        look at https://python.readthedocs.io/en/stable/library/functions.html\n",
    "#        specifically `len()`\n",
    "print(len(a))\n",
    "# 6. print all the elements\n",
    "for elements in a:\n",
    "    print(elements)\n",
    "# 7. print all the elements less than 8\n",
    "for elements in a:\n",
    "    if elements < 8:\n",
    "        print(elements)  \n",
    "    \n",
    "    \n",
    "# 8. print out the elements in reverse order\n",
    "#        look at https://python-reference.readthedocs.io/en/latest/docs/list/\n",
    "#        specifically `reverse`\n",
    "a.reverse()\n",
    "for elements in a:\n",
    "    print(elements)\n",
    "# 9. append the next fibonacci number and print out the new list\n",
    "#        look again at the docs, this time for `append`\n",
    "#        [elements in the fibonacci sequence are equal to the sum of the previous two elements]\n",
    "a.reverse()\n",
    "a.append(a[-1]+a[-2])\n",
    "print(a)\n",
    "\n",
    "\n",
    "\n"
   ]
  },
  {
   "cell_type": "code",
   "execution_count": 28,
   "id": "22203dab-ac71-45fa-9922-c649c7810488",
   "metadata": {},
   "outputs": [
    {
     "name": "stdout",
     "output_type": "stream",
     "text": [
      "1\n",
      "1\n",
      "2\n",
      "3\n",
      "5\n",
      "8\n",
      "13\n",
      "21\n",
      "34\n",
      "55\n",
      "89\n",
      "4\n",
      "6\n",
      "7\n",
      "9\n",
      "10\n",
      "11\n",
      "12\n"
     ]
    }
   ],
   "source": [
    "a = [1, 1, 2, 3, 5, 8, 13, 21, 34, 55, 89]\n",
    "b = [1, 2, 3, 4, 5, 6, 7, 8, 9, 10, 11, 12, 13]\n",
    "# Using the below lists\n",
    "\n",
    "# 1. print out all the elements that are contained in both lists\n",
    "for element in a:\n",
    "    if element in b:\n",
    "        print(element)\n",
    "\n",
    "# 2. print out the elements that are contained in either list a or list b but not both\n",
    "for x in a:\n",
    "    if x not in b:\n",
    "        print(x)\n",
    "for y in b:\n",
    "    if y not in a:\n",
    "        print(y)\n",
    "\n",
    "\n"
   ]
  },
  {
   "cell_type": "code",
   "execution_count": 41,
   "id": "ad4f7b2a-5cc1-4a65-a5b5-1f2994f42fab",
   "metadata": {},
   "outputs": [
    {
     "name": "stdout",
     "output_type": "stream",
     "text": [
      "8\n",
      "January has 7 letters\n",
      "February has 8 letters\n",
      "March has 5 letters\n",
      "April has 5 letters\n",
      "May has 3 letters\n"
     ]
    }
   ],
   "source": [
    "a = {'January': 7, 'February': 8, 'March': 5, 'April': 5}\n",
    "# Using the below dictionary\n",
    "# add a new item to the dictionary,\n",
    "a['May']=3\n",
    "\n",
    "# print an element from the dictionary,\n",
    "print(a['February'])\n",
    "\n",
    "# print out the message \"<key> has <value> letters\" for every <key>/<value> pair\n",
    "\n",
    "for x in a:\n",
    "    print(x,\"has\", a[x],\"letters\")\n",
    "\n",
    "\n"
   ]
  },
  {
   "cell_type": "code",
   "execution_count": 52,
   "id": "3005621c-e50c-436a-a033-9aadae71eafb",
   "metadata": {},
   "outputs": [
    {
     "name": "stdout",
     "output_type": "stream",
     "text": [
      "[1, 12]\n",
      "[5, 19]\n",
      "[5, 99]\n"
     ]
    }
   ],
   "source": [
    "# Write a function that takes as input a list of numbers \n",
    "# and prints a new list of only the first and last elements of the given list.\n",
    "def f(listnum):\n",
    "    print([listnum[0],listnum[-1]])\n",
    "    \n",
    "listnum=[1,2,4,6,8,10,12]\n",
    "\n",
    "f(listnum)\n",
    "     \n",
    "# Execute it with several examples.\n",
    "listnum= [5,8,9,11,15,19]\n",
    "f(listnum)\n",
    "\n",
    "listnum=[5,12,99]\n",
    "f(listnum)"
   ]
  },
  {
   "cell_type": "code",
   "execution_count": 2,
   "id": "4a607e0a-2e1b-4e44-af40-4571f2e0b4f0",
   "metadata": {},
   "outputs": [
    {
     "name": "stdout",
     "output_type": "stream",
     "text": [
      "yes\n",
      "no\n",
      "no\n",
      "yes\n",
      "Yes\n"
     ]
    }
   ],
   "source": [
    "# Write a function that takes a string as input\n",
    "# and prints out \"Yes\" or \"No\" depending on whether the\n",
    "# string is a palindrome (spelled the same forwards and backwards).\n",
    "\n",
    "\n",
    "\n",
    "def ispal(mystring):\n",
    "    x=list(mystring)\n",
    "    y=list(mystring)\n",
    "    y.reverse()\n",
    "  \n",
    "    if x==y:\n",
    "        print('yes')\n",
    "    if x!=y:\n",
    "        print('no')\n",
    "\n",
    "ispal('radar')\n",
    "ispal('flower')\n",
    "ispal('alden')\n",
    "ispal('tacocat')\n",
    "    \n",
    "    \n",
    "def palicheck(mystring):\n",
    "    if mystring== mystring[::-1]:\n",
    "        print('Yes')\n",
    "    else:\n",
    "        print('No')\n",
    "a = 'abcba'\n",
    "palicheck(a)\n",
    "\n",
    "# Execute it with several examples.\n",
    "\n"
   ]
  },
  {
   "cell_type": "markdown",
   "id": "86f9df9a-822a-42be-a778-541173a4fefe",
   "metadata": {},
   "source": [
    "Check out the Python documentation for `random` and `string`:\n",
    "* https://python.readthedocs.io/en/stable/library/random.html\n",
    "* https://python.readthedocs.io/en/stable/library/string.html\n",
    "\n",
    "It's overkill for what you need here, but if you search for the specific attributes and methods mentioned below, you will be able to find useful information."
   ]
  },
  {
   "cell_type": "code",
   "execution_count": 72,
   "id": "c221f184-1e0b-491f-97a8-f9fb30458926",
   "metadata": {},
   "outputs": [
    {
     "name": "stdout",
     "output_type": "stream",
     "text": [
      "0.8091835253046763\n",
      "0.8314049983166104\n",
      "0.334124940642045\n"
     ]
    }
   ],
   "source": [
    "# Write a function that sets a random seed and prints three random numbers between 0 and 1\n",
    "import random\n",
    "def rando():\n",
    "    random.seed()\n",
    "    print(random.random())\n",
    "    print(random.random())\n",
    "    print(random.random())\n",
    "\n",
    "rando()\n",
    "\n",
    "\n",
    "# You may find it useful to look up:\n",
    "# random.seed and random.random\n"
   ]
  },
  {
   "cell_type": "code",
   "execution_count": 95,
   "id": "fc7c0629-729b-4c7e-9edb-266fbacb3be7",
   "metadata": {},
   "outputs": [
    {
     "name": "stdout",
     "output_type": "stream",
     "text": [
      "D\n",
      "ieHAaResBHhY\n",
      "n\n",
      "nXeGU\n"
     ]
    }
   ],
   "source": [
    "# Write a function that takes an integer as input\n",
    "# and prints a random alphabetical character, alphabetical string,\n",
    "# and alphabetical string of a fixed length equal to the input integer.\n",
    "# You may find it useful to look up:\n",
    "import random\n",
    "import string\n",
    "def x(integer):\n",
    "    print(random.choice(string.ascii_letters))\n",
    "    print(''.join(random.choices(string.ascii_letters,k=integer)))\n",
    "    \n",
    "x(random.randint(1,26))    \n",
    "x(5)\n",
    "\n",
    "# string.ascii_letters, random.randint, random.choice\n",
    "\n"
   ]
  },
  {
   "cell_type": "code",
   "execution_count": 66,
   "id": "c738c817-00aa-4597-b5c8-f38af11275cb",
   "metadata": {},
   "outputs": [
    {
     "name": "stdout",
     "output_type": "stream",
     "text": [
      "computer\n",
      "program\n",
      "experience\n",
      "respect\n",
      "performance\n",
      "measure\n",
      "performance\n",
      "measured\n",
      "improves\n",
      "experience\n"
     ]
    }
   ],
   "source": [
    "# Print the words in the following sentence that are longer than 6 characters\n",
    "# Note: you may find it useful to look at \n",
    "# `split` in https://python-reference.readthedocs.io/en/latest/docs/str/\n",
    "\n",
    "ml_sentence = '''\n",
    "A computer program is said to learn \n",
    "from experience E with respect to some class of tasks T \n",
    "and performance measure P if its performance at tasks in T \n",
    "as measured by P improves with experience E.\n",
    "'''\n",
    "x=ml_sentence.split()\n",
    "#print(x)\n",
    "\n",
    "for word in x:\n",
    "\n",
    "    if len(word) > 6:\n",
    "        print(word)\n",
    "\n"
   ]
  },
  {
   "cell_type": "code",
   "execution_count": 75,
   "id": "25e1bc45-95db-4e39-8abf-614660bc17ba",
   "metadata": {},
   "outputs": [
    {
     "data": {
      "text/plain": [
       "['and', 'measure', 'to', 'of', 'of']"
      ]
     },
     "execution_count": 75,
     "metadata": {},
     "output_type": "execute_result"
    }
   ],
   "source": [
    "# Print 5 random words from following sentence:\n",
    "\n",
    "ml_sentence = '''\n",
    "A computer program is said to learn \n",
    "from experience E with respect to some class of tasks T \n",
    "and performance measure P if its performance at tasks in T \n",
    "as measured by P improves with experience E.\n",
    "'''\n",
    "import random\n",
    "x=ml_sentence.split()\n",
    "#print(x)\n",
    "random.choices(x,k=5)"
   ]
  },
  {
   "cell_type": "code",
   "execution_count": 79,
   "id": "8ef4c496-014c-4459-941d-afb431501191",
   "metadata": {},
   "outputs": [
    {
     "name": "stdout",
     "output_type": "stream",
     "text": [
      "{'A': 1, 'computer': 1, 'program': 1, 'is': 1, 'said': 1, 'to': 2, 'learn': 1, 'from': 1, 'experience': 2, 'E': 1, 'with': 2, 'respect': 1, 'some': 1, 'class': 1, 'of': 1, 'tasks': 2, 'T': 2, 'and': 1, 'performance': 2, 'measure': 1, 'P': 2, 'if': 1, 'its': 1, 'at': 1, 'in': 1, 'as': 1, 'measured': 1, 'by': 1, 'improves': 1, 'E.': 1}\n"
     ]
    }
   ],
   "source": [
    "# Using the above 'ml_sentence', make a dictionary with\n",
    "# the dictionary keys equal to the unique words in the sentence,\n",
    "# and the value for each key equal to the number of times each word occurs.\n",
    "# e.g. 'hello my hello friend' would lead to the dictionary {'hello': 2, 'my': 1, 'friend': 1}\n",
    "\n",
    "counts = {}       #counts is name of my dictionary\n",
    "words = ml_sentence.split() #words(variable) is my list from the split of the sentence\n",
    "\n",
    "for word in words: #for every word in my sentence it assigns it to the variable WORD\n",
    "    if word in counts:\n",
    "        counts[word] = counts[word] + 1\n",
    "        #counts[word]+=1\n",
    "    else:\n",
    "        counts[word] = 1\n",
    "        \n",
    "print(counts)\n"
   ]
  },
  {
   "cell_type": "code",
   "execution_count": 80,
   "id": "48d8c6e8",
   "metadata": {},
   "outputs": [
    {
     "name": "stderr",
     "output_type": "stream",
     "text": [
      "[nltk_data] Downloading collection 'popular'\n",
      "[nltk_data]    | \n",
      "[nltk_data]    | Downloading package cmudict to\n",
      "[nltk_data]    |     C:\\Users\\krike\\AppData\\Roaming\\nltk_data...\n",
      "[nltk_data]    |   Unzipping corpora\\cmudict.zip.\n",
      "[nltk_data]    | Downloading package gazetteers to\n",
      "[nltk_data]    |     C:\\Users\\krike\\AppData\\Roaming\\nltk_data...\n",
      "[nltk_data]    |   Unzipping corpora\\gazetteers.zip.\n",
      "[nltk_data]    | Downloading package genesis to\n",
      "[nltk_data]    |     C:\\Users\\krike\\AppData\\Roaming\\nltk_data...\n",
      "[nltk_data]    |   Unzipping corpora\\genesis.zip.\n",
      "[nltk_data]    | Downloading package gutenberg to\n",
      "[nltk_data]    |     C:\\Users\\krike\\AppData\\Roaming\\nltk_data...\n",
      "[nltk_data]    |   Unzipping corpora\\gutenberg.zip.\n",
      "[nltk_data]    | Downloading package inaugural to\n",
      "[nltk_data]    |     C:\\Users\\krike\\AppData\\Roaming\\nltk_data...\n",
      "[nltk_data]    |   Unzipping corpora\\inaugural.zip.\n",
      "[nltk_data]    | Downloading package movie_reviews to\n",
      "[nltk_data]    |     C:\\Users\\krike\\AppData\\Roaming\\nltk_data...\n",
      "[nltk_data]    |   Unzipping corpora\\movie_reviews.zip.\n",
      "[nltk_data]    | Downloading package names to\n",
      "[nltk_data]    |     C:\\Users\\krike\\AppData\\Roaming\\nltk_data...\n",
      "[nltk_data]    |   Unzipping corpora\\names.zip.\n",
      "[nltk_data]    | Downloading package shakespeare to\n",
      "[nltk_data]    |     C:\\Users\\krike\\AppData\\Roaming\\nltk_data...\n",
      "[nltk_data]    |   Unzipping corpora\\shakespeare.zip.\n",
      "[nltk_data]    | Downloading package stopwords to\n",
      "[nltk_data]    |     C:\\Users\\krike\\AppData\\Roaming\\nltk_data...\n",
      "[nltk_data]    |   Unzipping corpora\\stopwords.zip.\n",
      "[nltk_data]    | Downloading package treebank to\n",
      "[nltk_data]    |     C:\\Users\\krike\\AppData\\Roaming\\nltk_data...\n",
      "[nltk_data]    |   Unzipping corpora\\treebank.zip.\n",
      "[nltk_data]    | Downloading package twitter_samples to\n",
      "[nltk_data]    |     C:\\Users\\krike\\AppData\\Roaming\\nltk_data...\n",
      "[nltk_data]    |   Unzipping corpora\\twitter_samples.zip.\n",
      "[nltk_data]    | Downloading package omw to\n",
      "[nltk_data]    |     C:\\Users\\krike\\AppData\\Roaming\\nltk_data...\n",
      "[nltk_data]    | Downloading package omw-1.4 to\n",
      "[nltk_data]    |     C:\\Users\\krike\\AppData\\Roaming\\nltk_data...\n",
      "[nltk_data]    | Downloading package wordnet to\n",
      "[nltk_data]    |     C:\\Users\\krike\\AppData\\Roaming\\nltk_data...\n",
      "[nltk_data]    | Downloading package wordnet2021 to\n",
      "[nltk_data]    |     C:\\Users\\krike\\AppData\\Roaming\\nltk_data...\n",
      "[nltk_data]    | Downloading package wordnet31 to\n",
      "[nltk_data]    |     C:\\Users\\krike\\AppData\\Roaming\\nltk_data...\n",
      "[nltk_data]    | Downloading package wordnet_ic to\n",
      "[nltk_data]    |     C:\\Users\\krike\\AppData\\Roaming\\nltk_data...\n",
      "[nltk_data]    |   Unzipping corpora\\wordnet_ic.zip.\n",
      "[nltk_data]    | Downloading package words to\n",
      "[nltk_data]    |     C:\\Users\\krike\\AppData\\Roaming\\nltk_data...\n",
      "[nltk_data]    |   Unzipping corpora\\words.zip.\n",
      "[nltk_data]    | Downloading package maxent_ne_chunker to\n",
      "[nltk_data]    |     C:\\Users\\krike\\AppData\\Roaming\\nltk_data...\n",
      "[nltk_data]    |   Unzipping chunkers\\maxent_ne_chunker.zip.\n",
      "[nltk_data]    | Downloading package punkt to\n",
      "[nltk_data]    |     C:\\Users\\krike\\AppData\\Roaming\\nltk_data...\n",
      "[nltk_data]    |   Unzipping tokenizers\\punkt.zip.\n",
      "[nltk_data]    | Downloading package snowball_data to\n",
      "[nltk_data]    |     C:\\Users\\krike\\AppData\\Roaming\\nltk_data...\n",
      "[nltk_data]    | Downloading package averaged_perceptron_tagger to\n",
      "[nltk_data]    |     C:\\Users\\krike\\AppData\\Roaming\\nltk_data...\n",
      "[nltk_data]    |   Unzipping taggers\\averaged_perceptron_tagger.zip.\n",
      "[nltk_data]    | \n",
      "[nltk_data]  Done downloading collection popular\n"
     ]
    },
    {
     "data": {
      "text/plain": [
       "True"
      ]
     },
     "execution_count": 80,
     "metadata": {},
     "output_type": "execute_result"
    }
   ],
   "source": [
    "import nltk\n",
    "nltk.download('popular')"
   ]
  },
  {
   "cell_type": "code",
   "execution_count": 90,
   "id": "33eaaa90-e336-4367-b072-58a8a71dada8",
   "metadata": {},
   "outputs": [
    {
     "name": "stdout",
     "output_type": "stream",
     "text": [
      "['ï', '»', '¿the', 'project', 'gutenberg', 'ebook', 'of', 'macbeth', ',', 'by']\n",
      "286\n",
      "11\n",
      "52\n"
     ]
    }
   ],
   "source": [
    "# Time to roll up our sleeves and make a similar dictionary for all the words in Macbeth.\n",
    "# I am going to do the first part (and you can execute this cell as is to see what happens),\n",
    "# you just need to adapt your code from above to make the dictionary at the end\n",
    "\n",
    "# Here we import libraries that can grab data from the web (via requests) and form a list of words using NLTK.\n",
    "import requests\n",
    "from nltk.tokenize import word_tokenize\n",
    "\n",
    "# Here we get the text of Macbeth from Project Gutenberg (https://www.gutenberg.org/) \n",
    "# and \"tokenize\" the text (split it up into words)\n",
    "target_url = \"https://www.gutenberg.org/files/1533/1533-0.txt\"\n",
    "response = requests.get(target_url)\n",
    "text_string = response.text\n",
    "text_string = text_string.lower()\n",
    "text_words = word_tokenize(text_string)\n",
    "\n",
    "# Here we print the first 10 words\n",
    "print(text_words[0:10])\n",
    "\n",
    "# Put in your code here to make the dictionary with the <word> : <word counts> pairs\n",
    "\n",
    "maccounts={}\n",
    "for word in text_words: #for every word in my sentence it assigns it to the variable WORD\n",
    "    if word in maccounts:\n",
    "        maccounts[word] = maccounts[word] + 1\n",
    "    else:\n",
    "        maccounts[word] = 1\n",
    "        \n",
    "\n",
    "# Check out some entries in the dictionary (such as 'Macbeth', 'sword', 'thy')\n",
    "\n",
    "print(maccounts['macbeth'])\n",
    "print(maccounts['sword'])\n",
    "print(maccounts['thy'])"
   ]
  },
  {
   "cell_type": "markdown",
   "id": "4940bcc8-b6db-4ddd-a0ec-3dcdf5fa4183",
   "metadata": {},
   "source": [
    "# End"
   ]
  }
 ],
 "metadata": {
  "kernelspec": {
   "display_name": "Python 3 (ipykernel)",
   "language": "python",
   "name": "python3"
  },
  "language_info": {
   "codemirror_mode": {
    "name": "ipython",
    "version": 3
   },
   "file_extension": ".py",
   "mimetype": "text/x-python",
   "name": "python",
   "nbconvert_exporter": "python",
   "pygments_lexer": "ipython3",
   "version": "3.9.12"
  }
 },
 "nbformat": 4,
 "nbformat_minor": 5
}
