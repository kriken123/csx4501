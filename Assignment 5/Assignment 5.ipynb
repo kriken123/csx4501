{
 "cells": [
  {
   "cell_type": "code",
   "execution_count": 1,
   "id": "e9a4c061",
   "metadata": {},
   "outputs": [],
   "source": [
    "import pandas as pd\n",
    "\n",
    "df = pd.read_csv('billionaires.csv')"
   ]
  },
  {
   "cell_type": "code",
   "execution_count": 2,
   "id": "bd1ecf27",
   "metadata": {},
   "outputs": [
    {
     "data": {
      "text/html": [
       "<div>\n",
       "<style scoped>\n",
       "    .dataframe tbody tr th:only-of-type {\n",
       "        vertical-align: middle;\n",
       "    }\n",
       "\n",
       "    .dataframe tbody tr th {\n",
       "        vertical-align: top;\n",
       "    }\n",
       "\n",
       "    .dataframe thead th {\n",
       "        text-align: right;\n",
       "    }\n",
       "</style>\n",
       "<table border=\"1\" class=\"dataframe\">\n",
       "  <thead>\n",
       "    <tr style=\"text-align: right;\">\n",
       "      <th></th>\n",
       "      <th>rank</th>\n",
       "      <th>year</th>\n",
       "      <th>company.founded</th>\n",
       "      <th>demographics.age</th>\n",
       "      <th>location.gdp</th>\n",
       "      <th>wealth.worth in billions</th>\n",
       "    </tr>\n",
       "  </thead>\n",
       "  <tbody>\n",
       "    <tr>\n",
       "      <th>count</th>\n",
       "      <td>2614.000000</td>\n",
       "      <td>2614.000000</td>\n",
       "      <td>2614.000000</td>\n",
       "      <td>2614.000000</td>\n",
       "      <td>2.614000e+03</td>\n",
       "      <td>2614.000000</td>\n",
       "    </tr>\n",
       "    <tr>\n",
       "      <th>mean</th>\n",
       "      <td>599.672533</td>\n",
       "      <td>2008.411630</td>\n",
       "      <td>1924.711936</td>\n",
       "      <td>53.341239</td>\n",
       "      <td>1.769103e+12</td>\n",
       "      <td>3.531943</td>\n",
       "    </tr>\n",
       "    <tr>\n",
       "      <th>std</th>\n",
       "      <td>467.885695</td>\n",
       "      <td>7.483598</td>\n",
       "      <td>243.776546</td>\n",
       "      <td>25.333320</td>\n",
       "      <td>3.547083e+12</td>\n",
       "      <td>5.088813</td>\n",
       "    </tr>\n",
       "    <tr>\n",
       "      <th>min</th>\n",
       "      <td>1.000000</td>\n",
       "      <td>1996.000000</td>\n",
       "      <td>0.000000</td>\n",
       "      <td>-42.000000</td>\n",
       "      <td>0.000000e+00</td>\n",
       "      <td>1.000000</td>\n",
       "    </tr>\n",
       "    <tr>\n",
       "      <th>25%</th>\n",
       "      <td>215.000000</td>\n",
       "      <td>2001.000000</td>\n",
       "      <td>1936.000000</td>\n",
       "      <td>47.000000</td>\n",
       "      <td>0.000000e+00</td>\n",
       "      <td>1.400000</td>\n",
       "    </tr>\n",
       "    <tr>\n",
       "      <th>50%</th>\n",
       "      <td>430.000000</td>\n",
       "      <td>2014.000000</td>\n",
       "      <td>1963.000000</td>\n",
       "      <td>59.000000</td>\n",
       "      <td>0.000000e+00</td>\n",
       "      <td>2.000000</td>\n",
       "    </tr>\n",
       "    <tr>\n",
       "      <th>75%</th>\n",
       "      <td>988.000000</td>\n",
       "      <td>2014.000000</td>\n",
       "      <td>1985.000000</td>\n",
       "      <td>70.000000</td>\n",
       "      <td>7.250000e+11</td>\n",
       "      <td>3.500000</td>\n",
       "    </tr>\n",
       "    <tr>\n",
       "      <th>max</th>\n",
       "      <td>1565.000000</td>\n",
       "      <td>2014.000000</td>\n",
       "      <td>2012.000000</td>\n",
       "      <td>98.000000</td>\n",
       "      <td>1.060000e+13</td>\n",
       "      <td>76.000000</td>\n",
       "    </tr>\n",
       "  </tbody>\n",
       "</table>\n",
       "</div>"
      ],
      "text/plain": [
       "              rank         year  company.founded  demographics.age  \\\n",
       "count  2614.000000  2614.000000      2614.000000       2614.000000   \n",
       "mean    599.672533  2008.411630      1924.711936         53.341239   \n",
       "std     467.885695     7.483598       243.776546         25.333320   \n",
       "min       1.000000  1996.000000         0.000000        -42.000000   \n",
       "25%     215.000000  2001.000000      1936.000000         47.000000   \n",
       "50%     430.000000  2014.000000      1963.000000         59.000000   \n",
       "75%     988.000000  2014.000000      1985.000000         70.000000   \n",
       "max    1565.000000  2014.000000      2012.000000         98.000000   \n",
       "\n",
       "       location.gdp  wealth.worth in billions  \n",
       "count  2.614000e+03               2614.000000  \n",
       "mean   1.769103e+12                  3.531943  \n",
       "std    3.547083e+12                  5.088813  \n",
       "min    0.000000e+00                  1.000000  \n",
       "25%    0.000000e+00                  1.400000  \n",
       "50%    0.000000e+00                  2.000000  \n",
       "75%    7.250000e+11                  3.500000  \n",
       "max    1.060000e+13                 76.000000  "
      ]
     },
     "execution_count": 2,
     "metadata": {},
     "output_type": "execute_result"
    }
   ],
   "source": [
    "df.describe()"
   ]
  },
  {
   "cell_type": "code",
   "execution_count": 4,
   "id": "0c595f31",
   "metadata": {},
   "outputs": [
    {
     "data": {
      "text/plain": [
       "3.531943381790374"
      ]
     },
     "execution_count": 4,
     "metadata": {},
     "output_type": "execute_result"
    }
   ],
   "source": [
    "df['wealth.worth in billions'].mean()"
   ]
  },
  {
   "cell_type": "code",
   "execution_count": 5,
   "id": "46d4883b",
   "metadata": {},
   "outputs": [
    {
     "data": {
      "text/plain": [
       "2.0"
      ]
     },
     "execution_count": 5,
     "metadata": {},
     "output_type": "execute_result"
    }
   ],
   "source": [
    "df['wealth.worth in billions'].median()"
   ]
  },
  {
   "cell_type": "code",
   "execution_count": 6,
   "id": "aac57735",
   "metadata": {},
   "outputs": [
    {
     "data": {
      "text/plain": [
       "0    1.1\n",
       "Name: wealth.worth in billions, dtype: float64"
      ]
     },
     "execution_count": 6,
     "metadata": {},
     "output_type": "execute_result"
    }
   ],
   "source": [
    "df['wealth.worth in billions'].mode()"
   ]
  },
  {
   "cell_type": "code",
   "execution_count": 7,
   "id": "edc776b0",
   "metadata": {},
   "outputs": [],
   "source": [
    "df2 = df.sort_values(by='wealth.worth in billions').copy()"
   ]
  },
  {
   "cell_type": "code",
   "execution_count": 8,
   "id": "69c9aceb",
   "metadata": {},
   "outputs": [
    {
     "data": {
      "text/plain": [
       "2613     1.0\n",
       "1434     1.0\n",
       "1433     1.0\n",
       "1432     1.0\n",
       "1431     1.0\n",
       "        ... \n",
       "11      58.2\n",
       "1       58.7\n",
       "8       64.0\n",
       "5       72.0\n",
       "2       76.0\n",
       "Name: wealth.worth in billions, Length: 2614, dtype: float64"
      ]
     },
     "execution_count": 8,
     "metadata": {},
     "output_type": "execute_result"
    }
   ],
   "source": [
    "df2['wealth.worth in billions']"
   ]
  },
  {
   "cell_type": "code",
   "execution_count": 9,
   "id": "d6fdd75a",
   "metadata": {},
   "outputs": [],
   "source": [
    "df2 = df.sort_values(by='wealth.worth in billions',ignore_index=True).copy()"
   ]
  },
  {
   "cell_type": "code",
   "execution_count": 10,
   "id": "5b541ade",
   "metadata": {},
   "outputs": [
    {
     "data": {
      "text/plain": [
       "0        1.0\n",
       "1        1.0\n",
       "2        1.0\n",
       "3        1.0\n",
       "4        1.0\n",
       "        ... \n",
       "2609    58.2\n",
       "2610    58.7\n",
       "2611    64.0\n",
       "2612    72.0\n",
       "2613    76.0\n",
       "Name: wealth.worth in billions, Length: 2614, dtype: float64"
      ]
     },
     "execution_count": 10,
     "metadata": {},
     "output_type": "execute_result"
    }
   ],
   "source": [
    "df2['wealth.worth in billions']"
   ]
  },
  {
   "cell_type": "code",
   "execution_count": 19,
   "id": "8cb96fb4",
   "metadata": {},
   "outputs": [
    {
     "data": {
      "text/plain": [
       "2.1614384085692437"
      ]
     },
     "execution_count": 19,
     "metadata": {},
     "output_type": "execute_result"
    }
   ],
   "source": [
    "#trimmed mean: trimmed the top and bottom 5%\n",
    "df2.loc[int(0.25*2613):int(0.75*2613),'wealth.worth in billions'].mean()\n",
    "#chose to trim 25% off the top and bottom.  Most of the data is between 0-10 billion"
   ]
  },
  {
   "cell_type": "code",
   "execution_count": 57,
   "id": "4f2bc622",
   "metadata": {},
   "outputs": [
    {
     "data": {
      "text/plain": [
       "<AxesSubplot:ylabel='Frequency'>"
      ]
     },
     "execution_count": 57,
     "metadata": {},
     "output_type": "execute_result"
    },
    {
     "data": {
      "image/png": "[encoded data removed]",
      "text/plain": [
       "<Figure size 432x288 with 1 Axes>"
      ]
     },
     "metadata": {
      "needs_background": "light"
     },
     "output_type": "display_data"
    }
   ],
   "source": [
    "#Plot a histogram of COL1 data and comment on the relative locations of the mean, median, mode, and trimmed mean.\n",
    "#Calculate the mean absolute deviation, the standard deviation, and the interquartile range (the difference of the 75% and 25% quantile)\n",
    "    #Comment as well on how they compare to each other and to the histogram plot.\n",
    "\n",
    "df['wealth.worth in billions'].plot(kind='hist', bins=100)\n",
    "\n",
    "#The mean, median, mode and trimmed all fall in the 4 bins. "
   ]
  },
  {
   "cell_type": "code",
   "execution_count": 58,
   "id": "a89dfe9f",
   "metadata": {},
   "outputs": [
    {
     "data": {
      "text/plain": [
       "2.0"
      ]
     },
     "execution_count": 58,
     "metadata": {},
     "output_type": "execute_result"
    }
   ],
   "source": [
    "df['wealth.worth in billions'].median()"
   ]
  },
  {
   "cell_type": "code",
   "execution_count": 59,
   "id": "34ab5ad8",
   "metadata": {},
   "outputs": [
    {
     "data": {
      "text/plain": [
       "0    1.1\n",
       "Name: wealth.worth in billions, dtype: float64"
      ]
     },
     "execution_count": 59,
     "metadata": {},
     "output_type": "execute_result"
    }
   ],
   "source": [
    "df['wealth.worth in billions'].mode()"
   ]
  },
  {
   "cell_type": "code",
   "execution_count": 60,
   "id": "82b75867",
   "metadata": {},
   "outputs": [
    {
     "data": {
      "text/plain": [
       "3.531943381790374"
      ]
     },
     "execution_count": 60,
     "metadata": {},
     "output_type": "execute_result"
    }
   ],
   "source": [
    "df['wealth.worth in billions'].mean()"
   ]
  },
  {
   "cell_type": "code",
   "execution_count": 61,
   "id": "e436be08",
   "metadata": {},
   "outputs": [
    {
     "data": {
      "text/plain": [
       "2.563225238241023"
      ]
     },
     "execution_count": 61,
     "metadata": {},
     "output_type": "execute_result"
    }
   ],
   "source": [
    "#Calculate the mean absolute deviation, the standard deviation, and the interquartile range (the difference of the 75% and 25% quantile)\n",
    "#Comment as well on how they compare to each other and to the histogram plot.\n",
    "df['wealth.worth in billions'].mad()"
   ]
  },
  {
   "cell_type": "code",
   "execution_count": 62,
   "id": "4d9a89f8",
   "metadata": {},
   "outputs": [
    {
     "data": {
      "text/plain": [
       "5.08881256191711"
      ]
     },
     "execution_count": 62,
     "metadata": {},
     "output_type": "execute_result"
    }
   ],
   "source": [
    "df['wealth.worth in billions'].std()"
   ]
  },
  {
   "cell_type": "code",
   "execution_count": 22,
   "id": "46fd7e92",
   "metadata": {},
   "outputs": [
    {
     "data": {
      "text/plain": [
       "<AxesSubplot:ylabel='Frequency'>"
      ]
     },
     "execution_count": 22,
     "metadata": {},
     "output_type": "execute_result"
    },
    {
     "data": {
      "image/png": "[encoded data removed]",
      "text/plain": [
       "<Figure size 432x288 with 1 Axes>"
      ]
     },
     "metadata": {
      "needs_background": "light"
     },
     "output_type": "display_data"
    }
   ],
   "source": [
    "#histogram plot of trimmed mean\n",
    "df2.loc[int(0.10*2613):int(0.90*2613),'wealth.worth in billions'].plot(kind='hist', bins=100)"
   ]
  },
  {
   "cell_type": "code",
   "execution_count": 63,
   "id": "6ef0e891",
   "metadata": {},
   "outputs": [
    {
     "data": {
      "text/plain": [
       "1.4"
      ]
     },
     "execution_count": 63,
     "metadata": {},
     "output_type": "execute_result"
    }
   ],
   "source": [
    "df['wealth.worth in billions'].quantile(0.25)"
   ]
  },
  {
   "cell_type": "code",
   "execution_count": 64,
   "id": "42c8f2ed",
   "metadata": {},
   "outputs": [
    {
     "data": {
      "text/plain": [
       "3.5"
      ]
     },
     "execution_count": 64,
     "metadata": {},
     "output_type": "execute_result"
    }
   ],
   "source": [
    "df['wealth.worth in billions'].quantile(0.75)"
   ]
  },
  {
   "cell_type": "code",
   "execution_count": null,
   "id": "be86c645",
   "metadata": {},
   "outputs": [],
   "source": [
    "#interquantile range (3.5-1.4)= 2.1\n",
    "#1.5 * IQR = 3.15"
   ]
  },
  {
   "cell_type": "code",
   "execution_count": 65,
   "id": "6434eb57",
   "metadata": {},
   "outputs": [
    {
     "data": {
      "text/plain": [
       "<AxesSubplot:>"
      ]
     },
     "execution_count": 65,
     "metadata": {},
     "output_type": "execute_result"
    },
    {
     "data": {
      "image/png": "[encoded data removed]",
      "text/plain": [
       "<Figure size 432x288 with 1 Axes>"
      ]
     },
     "metadata": {
      "needs_background": "light"
     },
     "output_type": "display_data"
    }
   ],
   "source": [
    "df['wealth.worth in billions'].plot(kind='box')"
   ]
  },
  {
   "cell_type": "markdown",
   "id": "80ad8244",
   "metadata": {},
   "source": [
    "Q1 & Q3 are all located within 0-10 billion .  Most of the descriptive stats are located within the range of 0-5. "
   ]
  },
  {
   "cell_type": "code",
   "execution_count": 51,
   "id": "e7edf698",
   "metadata": {},
   "outputs": [],
   "source": [
    "import numpy as np\n"
   ]
  },
  {
   "cell_type": "code",
   "execution_count": 52,
   "id": "fc5134fa",
   "metadata": {},
   "outputs": [],
   "source": [
    "conditions = [\n",
    "    (df['wealth.worth in billions'] < 0.5*df['wealth.worth in billions'].mean()),\n",
    "    (df['wealth.worth in billions'] >= 0.5*df['wealth.worth in billions'].mean()) & (df['wealth.worth in billions'] < df['wealth.worth in billions'].mean()),\n",
    "    (df['wealth.worth in billions'] >=df['wealth.worth in billions'].mean())    ]\n",
    "\n",
    "values = [0,1,2 ]\n",
    "\n",
    "df['COL1_mean_split']=np.select(conditions,values)"
   ]
  },
  {
   "cell_type": "code",
   "execution_count": 67,
   "id": "e46953fe",
   "metadata": {},
   "outputs": [
    {
     "data": {
      "text/plain": [
       "0       0\n",
       "1       0\n",
       "2       0\n",
       "3       0\n",
       "4       0\n",
       "       ..\n",
       "2609    2\n",
       "2610    2\n",
       "2611    2\n",
       "2612    2\n",
       "2613    2\n",
       "Name: COL1_mean_split, Length: 2614, dtype: int32"
      ]
     },
     "execution_count": 67,
     "metadata": {},
     "output_type": "execute_result"
    }
   ],
   "source": [
    "df['COL1_mean_split']"
   ]
  },
  {
   "cell_type": "code",
   "execution_count": 66,
   "id": "71a7f3db",
   "metadata": {},
   "outputs": [
    {
     "data": {
      "text/plain": [
       "<AxesSubplot:>"
      ]
     },
     "execution_count": 66,
     "metadata": {},
     "output_type": "execute_result"
    },
    {
     "data": {
      "image/png": "[encoded data removed]",
      "text/plain": [
       "<Figure size 432x288 with 1 Axes>"
      ]
     },
     "metadata": {
      "needs_background": "light"
     },
     "output_type": "display_data"
    }
   ],
   "source": [
    "df['COL1_mean_split'].plot(kind='bar')"
   ]
  },
  {
   "cell_type": "code",
   "execution_count": 68,
   "id": "ecb03072",
   "metadata": {},
   "outputs": [
    {
     "data": {
      "text/html": [
       "<div>\n",
       "<style scoped>\n",
       "    .dataframe tbody tr th:only-of-type {\n",
       "        vertical-align: middle;\n",
       "    }\n",
       "\n",
       "    .dataframe tbody tr th {\n",
       "        vertical-align: top;\n",
       "    }\n",
       "\n",
       "    .dataframe thead th {\n",
       "        text-align: right;\n",
       "    }\n",
       "</style>\n",
       "<table border=\"1\" class=\"dataframe\">\n",
       "  <thead>\n",
       "    <tr style=\"text-align: right;\">\n",
       "      <th></th>\n",
       "      <th>COL1_mean_split</th>\n",
       "      <th>wealth.worth in billions</th>\n",
       "    </tr>\n",
       "  </thead>\n",
       "  <tbody>\n",
       "    <tr>\n",
       "      <th>COL1_mean_split</th>\n",
       "      <td>1.000000</td>\n",
       "      <td>-0.379908</td>\n",
       "    </tr>\n",
       "    <tr>\n",
       "      <th>wealth.worth in billions</th>\n",
       "      <td>-0.379908</td>\n",
       "      <td>1.000000</td>\n",
       "    </tr>\n",
       "  </tbody>\n",
       "</table>\n",
       "</div>"
      ],
      "text/plain": [
       "                          COL1_mean_split  wealth.worth in billions\n",
       "COL1_mean_split                  1.000000                 -0.379908\n",
       "wealth.worth in billions        -0.379908                  1.000000"
      ]
     },
     "execution_count": 68,
     "metadata": {},
     "output_type": "execute_result"
    }
   ],
   "source": [
    "df[['COL1_mean_split','wealth.worth in billions']].corr()"
   ]
  },
  {
   "cell_type": "code",
   "execution_count": 69,
   "id": "bd86f01c",
   "metadata": {},
   "outputs": [
    {
     "data": {
      "text/html": [
       "<div>\n",
       "<style scoped>\n",
       "    .dataframe tbody tr th:only-of-type {\n",
       "        vertical-align: middle;\n",
       "    }\n",
       "\n",
       "    .dataframe tbody tr th {\n",
       "        vertical-align: top;\n",
       "    }\n",
       "\n",
       "    .dataframe thead th {\n",
       "        text-align: right;\n",
       "    }\n",
       "</style>\n",
       "<table border=\"1\" class=\"dataframe\">\n",
       "  <thead>\n",
       "    <tr style=\"text-align: right;\">\n",
       "      <th></th>\n",
       "      <th>wealth.worth in billions</th>\n",
       "      <th>demographics.age</th>\n",
       "    </tr>\n",
       "  </thead>\n",
       "  <tbody>\n",
       "    <tr>\n",
       "      <th>wealth.worth in billions</th>\n",
       "      <td>1.00000</td>\n",
       "      <td>0.11987</td>\n",
       "    </tr>\n",
       "    <tr>\n",
       "      <th>demographics.age</th>\n",
       "      <td>0.11987</td>\n",
       "      <td>1.00000</td>\n",
       "    </tr>\n",
       "  </tbody>\n",
       "</table>\n",
       "</div>"
      ],
      "text/plain": [
       "                          wealth.worth in billions  demographics.age\n",
       "wealth.worth in billions                   1.00000           0.11987\n",
       "demographics.age                           0.11987           1.00000"
      ]
     },
     "execution_count": 69,
     "metadata": {},
     "output_type": "execute_result"
    }
   ],
   "source": [
    "df[['wealth.worth in billions','demographics.age']].corr()"
   ]
  },
  {
   "cell_type": "code",
   "execution_count": 72,
   "id": "aef835c3",
   "metadata": {},
   "outputs": [
    {
     "data": {
      "text/plain": [
       "<AxesSubplot:xlabel='wealth.worth in billions', ylabel='demographics.age'>"
      ]
     },
     "execution_count": 72,
     "metadata": {},
     "output_type": "execute_result"
    },
    {
     "data": {
      "image/png": "[encoded data removed]",
      "text/plain": [
       "<Figure size 432x288 with 1 Axes>"
      ]
     },
     "metadata": {
      "needs_background": "light"
     },
     "output_type": "display_data"
    }
   ],
   "source": [
    "df.plot(kind='scatter',\n",
    "        x='wealth.worth in billions',\n",
    "        y='demographics.age')\n",
    "#the calculated correlation does make since.  We can see from the plot there is not much of a correlation between wealth in billions vs demographic age"
   ]
  },
  {
   "cell_type": "code",
   "execution_count": 77,
   "id": "f9021bfb",
   "metadata": {},
   "outputs": [],
   "source": [
    "import matplotlib.pyplot as plt"
   ]
  },
  {
   "cell_type": "code",
   "execution_count": 95,
   "id": "79519fb4",
   "metadata": {},
   "outputs": [
    {
     "data": {
      "text/plain": [
       "<AxesSubplot:xlabel='wealth.worth in billions', ylabel='demographics.age'>"
      ]
     },
     "execution_count": 95,
     "metadata": {},
     "output_type": "execute_result"
    },
    {
     "data": {
      "image/png": "[encoded data removed]",
      "text/plain": [
       "<Figure size 432x288 with 2 Axes>"
      ]
     },
     "metadata": {
      "needs_background": "light"
     },
     "output_type": "display_data"
    }
   ],
   "source": [
    "df.plot.hexbin(x='wealth.worth in billions',y='demographics.age',gridsize = 20)"
   ]
  },
  {
   "cell_type": "code",
   "execution_count": null,
   "id": "070b6d1d",
   "metadata": {},
   "outputs": [],
   "source": []
  }
 ],
 "metadata": {
  "kernelspec": {
   "display_name": "Python 3 (ipykernel)",
   "language": "python",
   "name": "python3"
  },
  "language_info": {
   "codemirror_mode": {
    "name": "ipython",
    "version": 3
   },
   "file_extension": ".py",
   "mimetype": "text/x-python",
   "name": "python",
   "nbconvert_exporter": "python",
   "pygments_lexer": "ipython3",
   "version": "3.9.12"
  }
 },
 "nbformat": 4,
 "nbformat_minor": 5
}
